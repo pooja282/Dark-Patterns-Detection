{
 "cells": [
  {
   "cell_type": "code",
   "execution_count": 3,
   "id": "0b7936f3",
   "metadata": {},
   "outputs": [
    {
     "name": "stdout",
     "output_type": "stream",
     "text": [
      "Pattern Category\n",
      "Scarcity         678\n",
      "Social Proof     314\n",
      "Misdirection     237\n",
      "Urgency          237\n",
      "Obstruction       30\n",
      "Sneaking          12\n",
      "Forced Action      4\n",
      "Name: count, dtype: int64\n"
     ]
    }
   ],
   "source": [
    "import pandas as pd\n",
    "\n",
    "selected_classification = \"Pattern Category\"\n",
    "\n",
    "df = pd.read_csv('dark_patterns.csv')\n",
    "\n",
    "df = df[pd.notnull(df[\"Pattern String\"])]\n",
    "col = [\"Pattern String\", selected_classification]\n",
    "df = df[col]\n",
    "\n",
    "print(df[selected_classification].value_counts())"
   ]
  },
  {
   "cell_type": "code",
   "execution_count": null,
   "id": "e9d26cb8",
   "metadata": {},
   "outputs": [],
   "source": []
  }
 ],
 "metadata": {
  "kernelspec": {
   "display_name": "Python 3 (ipykernel)",
   "language": "python",
   "name": "python3"
  },
  "language_info": {
   "codemirror_mode": {
    "name": "ipython",
    "version": 3
   },
   "file_extension": ".py",
   "mimetype": "text/x-python",
   "name": "python",
   "nbconvert_exporter": "python",
   "pygments_lexer": "ipython3",
   "version": "3.11.5"
  }
 },
 "nbformat": 4,
 "nbformat_minor": 5
}
