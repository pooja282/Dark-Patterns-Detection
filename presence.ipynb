{
 "cells": [
  {
   "cell_type": "code",
   "execution_count": 1,
   "id": "e6382070",
   "metadata": {},
   "outputs": [
    {
     "name": "stdout",
     "output_type": "stream",
     "text": [
      "Accuracy:  0.9565557729941292\n"
     ]
    },
    {
     "data": {
      "text/plain": [
       "['presence_vectorizer.joblib']"
      ]
     },
     "execution_count": 1,
     "metadata": {},
     "output_type": "execute_result"
    }
   ],
   "source": [
    "import pandas as pd \n",
    "from sklearn.model_selection import train_test_split\n",
    "from sklearn.feature_extraction.text import CountVectorizer\n",
    "from sklearn.feature_extraction.text import TfidfTransformer\n",
    "from sklearn.naive_bayes import BernoulliNB\n",
    "from sklearn import metrics\n",
    "from joblib import dump\n",
    "from sklearn.metrics import confusion_matrix\n",
    "import matplotlib.pyplot as plt\n",
    "# import seaborn as sns\n",
    "\n",
    "df1 = pd.read_csv('C:/Users/Lenovo/Desktop/Hackathon/normie.csv')\n",
    "df2 = pd.read_csv('C:/Users/Lenovo/Desktop/Hackathon/dark_patterns.csv')\n",
    "\n",
    "df1 = df1[pd.notnull(df1[\"Pattern String\"])]\n",
    "df1 = df1[df1[\"classification\"] == 0]\n",
    "df1[\"classification\"] = \"Not Dark\"\n",
    "df1.drop_duplicates(subset=\"Pattern String\")\n",
    "\n",
    "df2 = df2[pd.notnull(df2[\"Pattern String\"])]\n",
    "df2[\"classification\"] = \"Dark\"\n",
    "col = [\"Pattern String\", \"classification\"]\n",
    "df2 = df2[col]\n",
    "\n",
    "df = pd.concat([df1, df2])\n",
    "\n",
    "X_train, X_test, y_train, y_test = train_test_split(\n",
    "    df['Pattern String'], df[\"classification\"], train_size = .25)\n",
    "count_vect = CountVectorizer()\n",
    "X_train_counts = count_vect.fit_transform(X_train)\n",
    "tfidf_transformer = TfidfTransformer()\n",
    "X_train_tfidf = tfidf_transformer.fit_transform(X_train_counts)\n",
    "\n",
    "clf = BernoulliNB().fit(X_train_tfidf, y_train)\n",
    "\n",
    "y_pred = clf.predict(count_vect.transform(X_test))\n",
    "\n",
    "print(\"Accuracy: \", metrics.accuracy_score(y_pred, y_test))\n",
    "\n",
    "# conf_mat = confusion_matrix(y_test, y_pred)\n",
    "# fig, ax = plt.subplots(figsize=(10,10))\n",
    "# sns.heatmap(conf_mat, annot=True, fmt='d',\n",
    "#             xticklabels=category_id_df.Product.values, yticklabels=category_id_df.Product.values)\n",
    "# plt.ylabel('Actual')\n",
    "# plt.xlabel('Predicted')\n",
    "# plt.show()\n",
    "\n",
    "dump(clf, 'presence_classifer.joblib')\n",
    "dump(count_vect, 'presence_vectorizer.joblib')"
   ]
  },
  {
   "cell_type": "code",
   "execution_count": null,
   "id": "3f1b29b7",
   "metadata": {},
   "outputs": [],
   "source": []
  }
 ],
 "metadata": {
  "kernelspec": {
   "display_name": "Python 3 (ipykernel)",
   "language": "python",
   "name": "python3"
  },
  "language_info": {
   "codemirror_mode": {
    "name": "ipython",
    "version": 3
   },
   "file_extension": ".py",
   "mimetype": "text/x-python",
   "name": "python",
   "nbconvert_exporter": "python",
   "pygments_lexer": "ipython3",
   "version": "3.11.5"
  }
 },
 "nbformat": 4,
 "nbformat_minor": 5
}
